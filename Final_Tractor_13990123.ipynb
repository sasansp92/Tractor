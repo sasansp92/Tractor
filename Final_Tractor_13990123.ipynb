{
 "cells": [
  {
   "cell_type": "code",
   "execution_count": null,
   "metadata": {},
   "outputs": [],
   "source": [
    "import numpy as np\n",
    "import pandas as pd\n",
    "from pandas import Series,DataFrame"
   ]
  },
  {
   "cell_type": "code",
   "execution_count": null,
   "metadata": {},
   "outputs": [],
   "source": [
    "Bahman_Tractor=pd.read_excel(\"Bahman-98.xlsx\")"
   ]
  },
  {
   "cell_type": "code",
   "execution_count": null,
   "metadata": {},
   "outputs": [],
   "source": [
    "Bahman_Tractor.head()"
   ]
  },
  {
   "cell_type": "code",
   "execution_count": null,
   "metadata": {},
   "outputs": [],
   "source": [
    "Esfand_Tractor=pd.read_excel(\"Esfand-98.xlsx\")"
   ]
  },
  {
   "cell_type": "code",
   "execution_count": null,
   "metadata": {},
   "outputs": [],
   "source": [
    "Esfand_Tractor.head()"
   ]
  },
  {
   "cell_type": "code",
   "execution_count": null,
   "metadata": {},
   "outputs": [],
   "source": [
    "Esfand_Tractor.info()"
   ]
  },
  {
   "cell_type": "code",
   "execution_count": null,
   "metadata": {},
   "outputs": [],
   "source": [
    "Bahman_Tractor.info()"
   ]
  },
  {
   "cell_type": "code",
   "execution_count": null,
   "metadata": {},
   "outputs": [],
   "source": [
    "Total=pd.concat([Bahman_Tractor,Esfand_Tractor],ignore_index=True).drop_duplicates()"
   ]
  },
  {
   "cell_type": "code",
   "execution_count": null,
   "metadata": {},
   "outputs": [],
   "source": [
    "Total.head()"
   ]
  },
  {
   "cell_type": "code",
   "execution_count": null,
   "metadata": {},
   "outputs": [],
   "source": [
    "Total.info()"
   ]
  },
  {
   "cell_type": "code",
   "execution_count": null,
   "metadata": {},
   "outputs": [],
   "source": [
    "Total[['First','First_time']] = Total[\"موافقت دوره از\"].str.split(\" \",expand=True)"
   ]
  },
  {
   "cell_type": "code",
   "execution_count": null,
   "metadata": {},
   "outputs": [],
   "source": [
    "Total.head()"
   ]
  },
  {
   "cell_type": "code",
   "execution_count": null,
   "metadata": {},
   "outputs": [],
   "source": [
    "Total[['Second','Second_time']] = Total[\"موافقت دوره تا\"].str.split(\" \",expand=True)"
   ]
  },
  {
   "cell_type": "code",
   "execution_count": null,
   "metadata": {},
   "outputs": [],
   "source": [
    "Total.head()"
   ]
  },
  {
   "cell_type": "code",
   "execution_count": null,
   "metadata": {},
   "outputs": [],
   "source": [
    "Total_1=Total.drop(columns=[\"شماره درخواست\",\"مخاطب اول\",\"كاربرد\",\"مخاطب دوم\",\"شهرستان\",\"نام فرآورده\",\"تاريخ تاييد\",\"موافقت دوره از\",\"موافقت دوره تا\",\"مقدار درخواست\",\"مقدار تاييد متولي اول\",\"مقدار تاييد متولي دوم\",\"تایید سرویس صنعتی\",\"First_time\",\"Second_time\"]) "
   ]
  },
  {
   "cell_type": "code",
   "execution_count": null,
   "metadata": {},
   "outputs": [],
   "source": [
    "Total_1.head()"
   ]
  },
  {
   "cell_type": "code",
   "execution_count": null,
   "metadata": {},
   "outputs": [],
   "source": [
    "Total_1[['Second_1','Second_2','Second_3']] = Total_1[\"Second\"].str.split(\"/\",expand=True)"
   ]
  },
  {
   "cell_type": "code",
   "execution_count": null,
   "metadata": {},
   "outputs": [],
   "source": [
    "Total_1[['First_1','First_2','First_3']] = Total_1[\"First\"].str.split(\"/\",expand=True)"
   ]
  },
  {
   "cell_type": "code",
   "execution_count": null,
   "metadata": {},
   "outputs": [],
   "source": [
    "Total_1.head()"
   ]
  },
  {
   "cell_type": "code",
   "execution_count": null,
   "metadata": {},
   "outputs": [],
   "source": [
    "Total_1.info()"
   ]
  },
  {
   "cell_type": "code",
   "execution_count": null,
   "metadata": {},
   "outputs": [],
   "source": [
    "Total_1[\"Second_3\"]=pd.to_numeric(Total_1[\"Second_3\"])\n",
    "Total_1.info()"
   ]
  },
  {
   "cell_type": "code",
   "execution_count": null,
   "metadata": {},
   "outputs": [],
   "source": [
    "Total_1[\"First_3\"]=pd.to_numeric(Total_1[\"First_3\"])\n",
    "Total_1.info()"
   ]
  },
  {
   "cell_type": "code",
   "execution_count": null,
   "metadata": {},
   "outputs": [],
   "source": [
    "Total_1[\"Difference\"]=Total_1[\"Second_3\"]-Total_1[\"First_3\"]"
   ]
  },
  {
   "cell_type": "code",
   "execution_count": null,
   "metadata": {},
   "outputs": [],
   "source": [
    "Total_1.head()"
   ]
  },
  {
   "cell_type": "code",
   "execution_count": null,
   "metadata": {},
   "outputs": [],
   "source": [
    "Total_1=Total_1.drop_duplicates()\n",
    "Total_1.drop(Total_1.iloc[:,3:11],inplace=True,axis=1) \n",
    "Total_1.head()"
   ]
  },
  {
   "cell_type": "code",
   "execution_count": null,
   "metadata": {},
   "outputs": [],
   "source": [
    "Total_1.info()"
   ]
  },
  {
   "cell_type": "code",
   "execution_count": null,
   "metadata": {},
   "outputs": [],
   "source": [
    "Total_1.to_excel(\"Total_1.xlsx\")"
   ]
  },
  {
   "cell_type": "code",
   "execution_count": null,
   "metadata": {},
   "outputs": [],
   "source": [
    "Total_2=Total_1.groupby(Total_1[\"نام كاربري\"])"
   ]
  },
  {
   "cell_type": "code",
   "execution_count": null,
   "metadata": {},
   "outputs": [],
   "source": [
    "Final_s=Total_2.sum()\n",
    "Final_s"
   ]
  },
  {
   "cell_type": "code",
   "execution_count": null,
   "metadata": {},
   "outputs": [],
   "source": [
    "Final_1=pd.merge(Final_s,Total_1,on='نام كاربري',how='left')\n",
    "Final_1=Final_1.drop_duplicates()\n",
    "Final_1.drop(Final_1.iloc[:,4:],inplace=True,axis=1)\n",
    "Final_1=Final_1.drop_duplicates()\n",
    "Final_1"
   ]
  },
  {
   "cell_type": "code",
   "execution_count": null,
   "metadata": {},
   "outputs": [],
   "source": [
    "Final_c=Total_2.count()\n",
    "Final_c[\"تعداد\"]=Final_c[\"استان\"]\n",
    "Final_c"
   ]
  },
  {
   "cell_type": "code",
   "execution_count": null,
   "metadata": {},
   "outputs": [],
   "source": [
    "Final_2=pd.merge(Final_1,Final_c,on='نام كاربري',how='left')\n",
    "Final_2.drop(Final_2.iloc[:,4:7],inplace=True,axis=1)\n",
    "Final_2=Final_2.drop_duplicates()\n",
    "Final_2.head()"
   ]
  },
  {
   "cell_type": "code",
   "execution_count": null,
   "metadata": {},
   "outputs": [],
   "source": [
    "Final_2.rename(columns={'مقدار تاييد ناحيه_x':'مقدار تاييد ناحيه','Difference_x':\"جمع روز\"},inplace=True) "
   ]
  },
  {
   "cell_type": "code",
   "execution_count": null,
   "metadata": {},
   "outputs": [],
   "source": [
    "Final_2.rename(columns={'استان_x':'استان'},inplace=True) \n",
    "Final_2"
   ]
  },
  {
   "cell_type": "code",
   "execution_count": null,
   "metadata": {},
   "outputs": [],
   "source": [
    "Final_2.info()"
   ]
  },
  {
   "cell_type": "code",
   "execution_count": null,
   "metadata": {},
   "outputs": [],
   "source": [
    "Final_2.to_excel(\"Second_Traktor1.xlsx\")"
   ]
  },
  {
   "cell_type": "code",
   "execution_count": null,
   "metadata": {},
   "outputs": [],
   "source": [
    "import numpy as np\n",
    "import pandas as pd\n",
    "from pandas import Series,DataFrame"
   ]
  },
  {
   "cell_type": "code",
   "execution_count": null,
   "metadata": {},
   "outputs": [],
   "source": [
    "First_Traktor=pd.read_excel(\"First_Traktor.xlsx\")"
   ]
  },
  {
   "cell_type": "code",
   "execution_count": null,
   "metadata": {},
   "outputs": [],
   "source": [
    "Second_Traktor=pd.read_excel(\"Second_Traktor.xlsx\")"
   ]
  },
  {
   "cell_type": "code",
   "execution_count": null,
   "metadata": {},
   "outputs": [],
   "source": [
    "First_Traktor.head()"
   ]
  },
  {
   "cell_type": "code",
   "execution_count": null,
   "metadata": {},
   "outputs": [],
   "source": [
    "First_Traktor"
   ]
  },
  {
   "cell_type": "code",
   "execution_count": null,
   "metadata": {},
   "outputs": [],
   "source": [
    "First_Traktor.info()"
   ]
  },
  {
   "cell_type": "code",
   "execution_count": null,
   "metadata": {},
   "outputs": [],
   "source": [
    "Second_Traktor.info()"
   ]
  },
  {
   "cell_type": "code",
   "execution_count": null,
   "metadata": {},
   "outputs": [],
   "source": [
    "Ostan=First_Traktor.استان.unique()\n",
    "Ostan.sort()\n",
    "Ostan"
   ]
  },
  {
   "cell_type": "code",
   "execution_count": null,
   "metadata": {},
   "outputs": [],
   "source": [
    "Ostan1=Second_Traktor.استان.unique()\n",
    "Ostan1.sort()\n",
    "Ostan1"
   ]
  },
  {
   "cell_type": "code",
   "execution_count": null,
   "metadata": {},
   "outputs": [],
   "source": [
    "First_Traktor=First_Traktor.replace(['اذربایجان شرقی', 'اذربایجان غربی', 'اردبیل', 'اصفهان', 'البرز',\n",
    "       'ایلام', 'بوشهر', 'تهران', 'خراسان جنوبی', 'خراسان رضوئ',\n",
    "       'خراسان شمالی', 'خوزستان', 'زنجان', 'سمنان', 'سیستان وبلوچستان',\n",
    "       'فارس', 'قزوین', 'قم', 'لرستان', 'مازندران', 'مرکزی', 'هرمزگان',\n",
    "       'همدان', 'چهارمحال وبختیارئ', 'کردستان', 'کرمان', 'کرمانشاه',\n",
    "       'کهگیلویه وبویراحمد', 'گلستان', 'گیلان', 'یزد'],\n",
    "                     ['آذربايجان شرقي', 'آذربايجان غربي', 'اردبيل', 'اصفهان', 'البرز',\n",
    "       'ايلام', 'بوشهر', 'تهران', 'خراسان جنوبي', 'خراسان رضوئ',\n",
    "       'خراسان شمالي', 'خوزستان', 'زنجان', 'سمنان', 'سيستان وبلوچستان',\n",
    "       'قزوين', 'قم', 'لرستان', 'مازندران', 'مرکزي', 'هرمزگان',\n",
    "       'همدان', 'چهارمحال وبختيارئ', 'كردستان', 'كرمان', 'کرمانشاه', 'فارس',\n",
    "       'كهگيلويه وبويراحمد', 'گلستان', 'گيلان', 'يزد'])"
   ]
  },
  {
   "cell_type": "code",
   "execution_count": null,
   "metadata": {},
   "outputs": [],
   "source": [
    "First_Traktor"
   ]
  },
  {
   "cell_type": "code",
   "execution_count": null,
   "metadata": {},
   "outputs": [],
   "source": [
    "First_Traktor[\"استان\"][First_Traktor[\"استان\"]==\"اذربایجان شرقی\"]"
   ]
  },
  {
   "cell_type": "code",
   "execution_count": null,
   "metadata": {},
   "outputs": [],
   "source": [
    "Traktor=pd.concat([First_Traktor,Second_Traktor],ignore_index=True)"
   ]
  },
  {
   "cell_type": "code",
   "execution_count": null,
   "metadata": {},
   "outputs": [],
   "source": [
    "Traktor"
   ]
  },
  {
   "cell_type": "code",
   "execution_count": null,
   "metadata": {},
   "outputs": [],
   "source": [
    "Traktor_1=Traktor.groupby([\"نام كاربري\"])"
   ]
  },
  {
   "cell_type": "code",
   "execution_count": null,
   "metadata": {},
   "outputs": [],
   "source": [
    "Traktor_2=Traktor_1.sum()\n",
    "Traktor_2"
   ]
  },
  {
   "cell_type": "code",
   "execution_count": null,
   "metadata": {},
   "outputs": [],
   "source": [
    "Final_3=pd.merge(Traktor_2,Traktor,on='نام كاربري',how='left')\n",
    "Final_3.drop(Final_3.iloc[:, 6:],inplace = True,axis = 1) \n",
    "Final_3=Final_3.drop_duplicates()\n",
    "Final_3"
   ]
  },
  {
   "cell_type": "code",
   "execution_count": null,
   "metadata": {},
   "outputs": [],
   "source": [
    "Final_3.info()"
   ]
  },
  {
   "cell_type": "code",
   "execution_count": null,
   "metadata": {},
   "outputs": [],
   "source": [
    "Final_3.to_excel(\"Final.xlsx\")"
   ]
  },
  {
   "cell_type": "code",
   "execution_count": null,
   "metadata": {},
   "outputs": [],
   "source": []
  }
 ],
 "metadata": {
  "kernelspec": {
   "display_name": "Python 3",
   "language": "python",
   "name": "python3"
  },
  "language_info": {
   "codemirror_mode": {
    "name": "ipython",
    "version": 3
   },
   "file_extension": ".py",
   "mimetype": "text/x-python",
   "name": "python",
   "nbconvert_exporter": "python",
   "pygments_lexer": "ipython3",
   "version": "3.7.4"
  }
 },
 "nbformat": 4,
 "nbformat_minor": 4
}
